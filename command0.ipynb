{
 "cells": [
  {
   "cell_type": "code",
   "execution_count": 1,
   "id": "6fbbc522-f9a9-4676-b104-2a66f6dbbf91",
   "metadata": {},
   "outputs": [
    {
     "name": "stdout",
     "output_type": "stream",
     "text": [
      "^C\n"
     ]
    }
   ],
   "source": [
    "!python3.8 train.py --batch_size 32 --kernel_size 1 --h_dim 16 --horizon 1 --model_name seq2seq --num_test 50 --gpu_id 1 > out1 2>&1"
   ]
  },
  {
   "cell_type": "code",
   "execution_count": null,
   "id": "5d3579e6-f4e6-419d-a675-b63929b27e2e",
   "metadata": {},
   "outputs": [],
   "source": [
    "!python3.8 train.py --batch_size 32 --kernel_size 3 --h_dim 16 --horizon 1 --model_name seq2seq --num_test 50 --gpu_id 1 > out1 2>&1"
   ]
  },
  {
   "cell_type": "code",
   "execution_count": null,
   "id": "6a4560e0-c908-4152-a95b-ac367ffa9ada",
   "metadata": {},
   "outputs": [],
   "source": []
  }
 ],
 "metadata": {
  "kernelspec": {
   "display_name": "Python 3 (ipykernel)",
   "language": "python",
   "name": "python3"
  },
  "language_info": {
   "codemirror_mode": {
    "name": "ipython",
    "version": 3
   },
   "file_extension": ".py",
   "mimetype": "text/x-python",
   "name": "python",
   "nbconvert_exporter": "python",
   "pygments_lexer": "ipython3",
   "version": "3.8.9"
  }
 },
 "nbformat": 4,
 "nbformat_minor": 5
}
