{
 "cells": [
  {
   "cell_type": "code",
   "execution_count": null,
   "id": "f4757376-7885-4633-a311-150ead0cb2a9",
   "metadata": {},
   "outputs": [],
   "source": [
    "!python3.8 train.py --batch_size 16 --horizon 1 --model_name unet --num_test 50 --gpu_id 3 > out 2>&1\n"
   ]
  },
  {
   "cell_type": "code",
   "execution_count": null,
   "id": "a4a18e89-5562-48f2-b34e-7a9c161a4c56",
   "metadata": {},
   "outputs": [],
   "source": []
  }
 ],
 "metadata": {
  "kernelspec": {
   "display_name": "Python 3 (ipykernel)",
   "language": "python",
   "name": "python3"
  },
  "language_info": {
   "codemirror_mode": {
    "name": "ipython",
    "version": 3
   },
   "file_extension": ".py",
   "mimetype": "text/x-python",
   "name": "python",
   "nbconvert_exporter": "python",
   "pygments_lexer": "ipython3",
   "version": "3.8.9"
  }
 },
 "nbformat": 4,
 "nbformat_minor": 5
}
